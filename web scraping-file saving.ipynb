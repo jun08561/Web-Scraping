{
 "cells": [
  {
   "cell_type": "code",
   "execution_count": 1,
   "metadata": {},
   "outputs": [],
   "source": [
    "import requests\n",
    "from urllib.request import urlopen as uReq\n",
    "from bs4 import BeautifulSoup as Soup"
   ]
  },
  {
   "cell_type": "code",
   "execution_count": 2,
   "metadata": {},
   "outputs": [],
   "source": [
    "my_url = \"https://www.newegg.com/p/pl?N=100020039%20600364047%20601310910&cm_sp=Cat_2-in-1-Laptops_1-_-VisNav-_-Convertible-Laptops_1\""
   ]
  },
  {
   "cell_type": "code",
   "execution_count": 3,
   "metadata": {},
   "outputs": [],
   "source": [
    "#open the connection, grabbing the page by using urlopen function and put the HTML into the page_html variable\n",
    "uClient = uReq(my_url)\n",
    "page_html = uClient.read()\n",
    "\n",
    "uClient.close()"
   ]
  },
  {
   "cell_type": "code",
   "execution_count": 4,
   "metadata": {},
   "outputs": [],
   "source": [
    "# parse the HTML from our URL into the BeautifulSoup html format\n",
    "page_soup = Soup(page_html, \"html.parser\")"
   ]
  },
  {
   "cell_type": "code",
   "execution_count": 5,
   "metadata": {},
   "outputs": [],
   "source": [
    "#find the div we want to scraping\n",
    "containers = page_soup.findAll(\"div\",{\"class\": \"item-container\"})"
   ]
  },
  {
   "cell_type": "code",
   "execution_count": 6,
   "metadata": {},
   "outputs": [
    {
     "data": {
      "text/plain": [
       "36"
      ]
     },
     "execution_count": 6,
     "metadata": {},
     "output_type": "execute_result"
    }
   ],
   "source": [
    "len(containers)"
   ]
  },
  {
   "cell_type": "code",
   "execution_count": 7,
   "metadata": {},
   "outputs": [
    {
     "data": {
      "text/plain": [
       "11"
      ]
     },
     "execution_count": 7,
     "metadata": {},
     "output_type": "execute_result"
    }
   ],
   "source": [
    "#write result into csv file\n",
    "filename = \"product.csv\"\n",
    "f = open(filename, \"w\")\n",
    "\n",
    "#set up csv file header\n",
    "headers = \"brand,title\"\n",
    "f.write(headers)"
   ]
  },
  {
   "cell_type": "code",
   "execution_count": 8,
   "metadata": {},
   "outputs": [
    {
     "name": "stdout",
     "output_type": "stream",
     "text": [
      "brand:SAMSUNG\n",
      "title: SAMSUNG Notebook 9 Pen NP950SBE-X01US Intel Core i7 8th Gen 8565U (1.80 GHz) 16 GB Memory 512 GB SSD NVIDIA GeForce MX150 15.0\" Convertible 2-in-1 Laptop Windows 10 Home 64-bit\n",
      "brand:SAMSUNG\n",
      "title: SAMSUNG Notebook 9 Pen NP930SBE-K01US Intel Core i7 8th Gen 8565U (1.80 GHz) 8 GB Memory 256 GB SSD Intel UHD Graphics 620 13.3\" Convertible 2-in-1 Laptop Windows 10 Home 64-bit\n",
      "brand:ASUS\n",
      "title: ASUS ZenBook Flip 14 Ultra Slim Convertible Laptop 14\" Full HD WideView Touch, 8th-Gen Intel Core i7-8565U Processor, 16 GB LPDDR3, 512 GB NVMe PCIe SSD, GeForce MX150, Windows 10 - UX461FN-DH74T\n",
      "brand:Lenovo\n",
      "title: Lenovo 300e Winbook 81FY000SUS 11.6\" Touchscreen LCD 2 in 1 Notebook - Intel Celeron N3450 Quad-core (4 Core) 1.10 GHz - 4 GB - 64 GB Flash Memory - Windows 10 Pro - 1366 x 768 - IPS - Convertible\n",
      "brand:Lenovo\n",
      "title: Lenovo Flex 14 2-in-1 Convertible Laptop(12GB DDR4 RAM, 256GB NVMe SSD)|14 Inch FHD Touchscreen| AMD Ryzen 5 3500U Processor|Backlit Keyboard|Fingerprint Reader| Win 10|Black | Pen Included\n",
      "brand:Lenovo\n",
      "title: Lenovo Flex 14 2-in-1 Convertible Laptop(8GB DDR4 RAM, 256GB SSD)|14 Inch FHD Touchscreen| AMD Ryzen 5 3500U Processor|Radeon Vega 8 Graphics|Fingerprint Reader| Win 10|Black | Pen Included\n",
      "brand:Lenovo\n",
      "title: Lenovo Flex 14 2-in-1 Convertible Laptop(20GB DDR4 RAM, 512GB NVMe SSD)|14 Inch FHD Touchscreen| AMD Ryzen 5 3500U Processor|Backlit Keyboard|Fingerprint Reader| Win 10|Black | Pen Included\n",
      "brand:Lenovo\n",
      "title: Lenovo Flex 14 2-in-1 Convertible Laptop(20GB DDR4 RAM, 1TB NVMe SSD)|14 Inch FHD Touchscreen| AMD Ryzen 5 3500U Processor|Backlit Keyboard|Fingerprint Reader| Win 10|Black | Pen Included\n",
      "brand:Lenovo\n",
      "title: Lenovo Flex 14 2-in-1 Convertible Laptop(12GB DDR4 RAM, 512GB NVMe SSD)|14 Inch FHD Touchscreen| AMD Ryzen 5 3500U Processor|Backlit Keyboard|Fingerprint Reader| Win 10|Black | Pen Included\n",
      "brand:Lenovo\n",
      "title: Lenovo IdeaPad 1 14\", 14.0(20GB DDR4 RAM, 256GB NVMe SSD)|14 Inch FHD Touchscreen| AMD Ryzen 5 3500U Processor|Backlit Keyboard|Fingerprint Reader| Win 10|Black | Pen Included\n",
      "brand:Thomson\n",
      "title: PROMO: THOMSON HERO9 2-in-1 Tablet PC 8.9\" / MOBILE OFFICE FOR FREE/ Intel® Atom™  / Windows 10 / Magnetic Sleeve (Serves as a Stand)  /1GB Ram /32GB eMMC /  Touchpanel / Keyboard with Multi-touch Pad\n",
      "brand:Thomson\n",
      "title: PROMO: THOMSON NEO360XS Touchscreen Laptop /Intel® Celeron™/ GB RAM-32GB eMMC /13.3\" FULL HD 1920x1080 IPS Panel /0.3MP Webcam /Wi-Fi & BT /Battery 7 Hours / Windows 10 / ALU Case / SILVER  / SSD Slot\n",
      "brand:Lenovo\n",
      "title: Lenovo Flex 14 2-in-1 Convertible Laptop(12GB DDR4 RAM, 1TB NVMe SSD)|14 Inch FHD Touchscreen| AMD Ryzen 5 3500U Processor|Backlit Keyboard|Fingerprint Reader| Win 10|Black | Pen Included\n",
      "brand:HP\n",
      "title: HP Pavilion X360 14\" FHD Edge-to-Edge Glass Touchscreen 2-in-1 Laptop, 8th Gen Intel Core i5-8250U,8GB DDR4 RAM, 128GB SSD,Intel® UHD Graphics 620,Wifi-AC,BlueTooth 4.2,B&O Audio,Windows 10 Pro\n",
      "brand:ASUS\n",
      "title: ASUS VivoBook Filp 14 2-in-1 Touchscreen Laptop, 14\" FHD NanoEdge, Intel Core i5 Quad-core up to 3.40 GHz, 8GB RAM, 256GB SSD, Backlit, USB-C, FP Reader, WebCam, Wi-Fi 5, BT, Win 10\n",
      "brand:HP\n",
      "title: HP Pavilion X360 14\" FHD Edge-to-Edge Glass Touchscreen 2-in-1 Laptop, 8th Gen Intel Core i5-8250U,8GB DDR4 RAM, 256GB SSD,Intel® UHD Graphics 620,Wifi-AC,BlueTooth 4.2,B&O Audio,Windows 10 Pro\n",
      "brand:ASUS\n",
      "title: ASUS VivoBook Filp 14 2-in-1 Touchscreen Laptop, 14\" FHD NanoEdge, Intel Core i5 Quad-core up to 3.40 GHz, 16GB RAM, 512GB SSD, Backlit, USB-C, FP Reader, WebCam, Wi-Fi 5, BT, Win 10\n",
      "brand:ASUS\n",
      "title: ASUS VivoBook Filp 14 2-in-1 Touchscreen Laptop, 14\" FHD NanoEdge, Intel Core i5 Quad-core up to 3.40 GHz, 16GB RAM, 256GB SSD, Backlit, USB-C, FP Reader, WebCam, Wi-Fi 5, BT, Win 10\n",
      "brand:ASUS\n",
      "title: ASUS VivoBook Filp 14 2-in-1 Touchscreen Laptop, 14\" FHD NanoEdge, Intel Core i5 Quad-core up to 3.40 GHz, 4GB RAM, 128GB SSD, Backlit, USB-C, FP Reader, WebCam, Wi-Fi 5, BT, Win 10\n",
      "brand:DELL\n",
      "title: Dell Inspiron 15 2-in-1 Laptop: Core i5-8250U, 8GB RAM, 1TB HDD, 15.6\" Full HD Touch Display\n",
      "brand:ASUS\n",
      "title: ASUS VivoBook Filp 14 2-in-1 Touchscreen Laptop, 14\" FHD NanoEdge, Intel Core i5 Quad-core up to 3.40 GHz, 12GB RAM, 512GB SSD, Backlit, USB-C, FP Reader, WebCam, Wi-Fi 5, BT, Win 10\n",
      "brand:ASUS\n",
      "title: ASUS VivoBook Filp 14 2-in-1 Touchscreen Laptop, 14\" FHD NanoEdge, Intel Core i5 Quad-core up to 3.40 GHz, 20GB RAM, 1TB SSD, Backlit, USB-C, FP Reader, WebCam, Wi-Fi 5, BT, Win 10\n",
      "brand:ASUS\n",
      "title: ASUS VivoBook Filp 14 2-in-1 Touchscreen Laptop, 14\" FHD NanoEdge, Intel Core i5 Quad-core up to 3.40 GHz, 16GB RAM, 1TB SSD, Backlit, USB-C, FP Reader, WebCam, Wi-Fi 5, BT, Win 10\n",
      "brand:ASUS\n",
      "title: ASUS VivoBook Filp 14 2-in-1 Touchscreen Laptop, 14\" FHD NanoEdge, Intel Core i5 Quad-core up to 3.40 GHz, 20GB RAM, 256GB SSD, Backlit, USB-C, FP Reader, WebCam, Wi-Fi 5, BT, Win 10\n",
      "brand:ASUS\n",
      "title: ASUS VivoBook Filp 14 2-in-1 Touchscreen Laptop, 14\" FHD NanoEdge, Intel Core i5 Quad-core up to 3.40 GHz, 20GB RAM, 512GB SSD, Backlit, USB-C, FP Reader, WebCam, Wi-Fi 5, BT, Win 10\n",
      "brand:ASUS\n",
      "title: ASUS VivoBook Filp 14 2-in-1 Touchscreen Laptop, 14\" FHD NanoEdge, Intel Core i5 Quad-core up to 3.40 GHz, 8GB RAM, 128GB SSD, Backlit, USB-C, FP Reader, WebCam, Wi-Fi 5, BT, Win 10\n",
      "brand:ASUS\n",
      "title: ASUS VivoBook Filp 14 2-in-1 Touchscreen Laptop, 14\" FHD NanoEdge, Intel Core i5 Quad-core up to 3.40 GHz, 4GB RAM, 256GB SSD, Backlit, USB-C, FP Reader, WebCam, Wi-Fi 5, BT, Win 10\n",
      "brand:ASUS\n",
      "title: ASUS VivoBook Filp 14 2-in-1 Touchscreen Laptop, 14\" FHD NanoEdge, Intel Core i5 Quad-core up to 3.40 GHz, 8GB RAM, 512GB SSD, Backlit, USB-C, FP Reader, WebCam, Wi-Fi 5, BT, Win 10\n",
      "brand:ASUS\n",
      "title: ASUS VivoBook Filp 14 2-in-1 Touchscreen Laptop, 14\" FHD NanoEdge, Intel Core i5 Quad-core up to 3.40 GHz, 16GB RAM, 128GB SSD, Backlit, USB-C, FP Reader, WebCam, Wi-Fi 5, BT, Win 10\n",
      "brand:ASUS\n",
      "title: ASUS VivoBook Filp 14 2-in-1 Touchscreen Laptop, 14\" FHD NanoEdge, Intel Core i5 Quad-core up to 3.40 GHz, 12GB RAM, 256GB SSD, Backlit, USB-C, FP Reader, WebCam, Wi-Fi 5, BT, Win 10\n",
      "brand:ASUS\n",
      "title: ASUS VivoBook Filp 14 2-in-1 Touchscreen Laptop, 14\" FHD NanoEdge, Intel Core i5 Quad-core up to 3.40 GHz, 12GB RAM, 1TB SSD, Backlit, USB-C, FP Reader, WebCam, Wi-Fi 5, BT, Win 10\n",
      "brand:ASUS\n",
      "title: ASUS VivoBook Filp 14 2-in-1 Touchscreen Laptop, 14\" FHD NanoEdge, Intel Core i5 Quad-core up to 3.40 GHz, 4GB RAM, 512GB SSD, Backlit, USB-C, FP Reader, WebCam, Wi-Fi 5, BT, Win 10\n",
      "brand:ASUS\n",
      "title: ASUS VivoBook Filp 14 2-in-1 Touchscreen Laptop, 14\" FHD NanoEdge, Intel Core i5 Quad-core up to 3.40 GHz, 20GB RAM, 128GB SSD, Backlit, USB-C, FP Reader, WebCam, Wi-Fi 5, BT, Win 10\n",
      "brand:ASUS\n",
      "title: ASUS VivoBook Filp 14 2-in-1 Touchscreen Laptop, 14\" FHD NanoEdge, Intel Core i5 Quad-core up to 3.40 GHz, 12GB RAM, 128GB SSD, Backlit, USB-C, FP Reader, WebCam, Wi-Fi 5, BT, Win 10\n",
      "brand:ASUS\n",
      "title: ASUS VivoBook Filp 14 2-in-1 Touchscreen Laptop, 14\" FHD NanoEdge, Intel Core i5 Quad-core up to 3.40 GHz, 8GB RAM, 1TB SSD, Backlit, USB-C, FP Reader, WebCam, Wi-Fi 5, BT, Win 10\n",
      "brand:ASUS\n",
      "title: ASUS VivoBook Filp 14 2-in-1 Touchscreen Laptop, 14\" FHD NanoEdge, Intel Core i5 Quad-core up to 3.40 GHz, 4GB RAM, 1TB SSD, Backlit, USB-C, FP Reader, WebCam, Wi-Fi 5, BT, Win 10\n"
     ]
    }
   ],
   "source": [
    "for container in containers:\n",
    "    #get all the title name\n",
    "    brand_container = container.find(\"div\",{\"class\":\"item-info\"})\n",
    "    brand = brand_container.div.a.img[\"title\"]\n",
    "    #get all the product name\n",
    "    title = container.a.img[\"title\"]\n",
    "    f.write(\"\\n\"+ brand +\",\"+title+\"\\n\")\n",
    "    print(\"brand:\" +brand)\n",
    "    print(\"title: \" + title)"
   ]
  },
  {
   "cell_type": "code",
   "execution_count": 9,
   "metadata": {},
   "outputs": [],
   "source": [
    "f.close()"
   ]
  }
 ],
 "metadata": {
  "kernelspec": {
   "display_name": "Python 3",
   "language": "python",
   "name": "python3"
  },
  "language_info": {
   "codemirror_mode": {
    "name": "ipython",
    "version": 3
   },
   "file_extension": ".py",
   "mimetype": "text/x-python",
   "name": "python",
   "nbconvert_exporter": "python",
   "pygments_lexer": "ipython3",
   "version": "3.7.4"
  }
 },
 "nbformat": 4,
 "nbformat_minor": 2
}
