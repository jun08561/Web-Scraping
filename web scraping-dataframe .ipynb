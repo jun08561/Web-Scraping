{
 "cells": [
  {
   "cell_type": "code",
   "execution_count": 1,
   "metadata": {},
   "outputs": [],
   "source": [
    "import requests\n",
    "from urllib.request import urlopen as uReq\n",
    "from bs4 import BeautifulSoup as Soup\n",
    "import pandas as pd"
   ]
  },
  {
   "cell_type": "code",
   "execution_count": 2,
   "metadata": {},
   "outputs": [],
   "source": [
    "my_url = \"https://www.newegg.com/p/pl?N=100020039%20600364047%20601310910&cm_sp=Cat_2-in-1-Laptops_1-_-VisNav-_-Convertible-Laptops_1\""
   ]
  },
  {
   "cell_type": "code",
   "execution_count": 3,
   "metadata": {},
   "outputs": [],
   "source": [
    "#open the connection, grabbing the page by using urlopen function and put the HTML into the page_html variable\n",
    "uClient = uReq(my_url)\n",
    "page_html = uClient.read()\n",
    "\n",
    "uClient.close()"
   ]
  },
  {
   "cell_type": "code",
   "execution_count": 4,
   "metadata": {},
   "outputs": [],
   "source": [
    "# parse the HTML from our URL into the BeautifulSoup html format\n",
    "page_soup = Soup(page_html, \"html.parser\")"
   ]
  },
  {
   "cell_type": "code",
   "execution_count": 5,
   "metadata": {},
   "outputs": [],
   "source": [
    "#find the div we want to scraping\n",
    "containers = page_soup.findAll(\"div\",{\"class\": \"item-container\"})"
   ]
  },
  {
   "cell_type": "code",
   "execution_count": 6,
   "metadata": {},
   "outputs": [
    {
     "data": {
      "text/plain": [
       "36"
      ]
     },
     "execution_count": 6,
     "metadata": {},
     "output_type": "execute_result"
    }
   ],
   "source": [
    "len(containers)"
   ]
  },
  {
   "cell_type": "code",
   "execution_count": 7,
   "metadata": {},
   "outputs": [],
   "source": [
    "# #write result into csv file\n",
    "# filename = \"product.csv\"\n",
    "# f = open(filename, \"w\")\n",
    "\n",
    "# #set up csv file header\n",
    "# headers = \"brand,title\"\n",
    "# f.write(headers)"
   ]
  },
  {
   "cell_type": "code",
   "execution_count": 8,
   "metadata": {},
   "outputs": [],
   "source": [
    "brand=[]\n",
    "title =[]"
   ]
  },
  {
   "cell_type": "code",
   "execution_count": null,
   "metadata": {},
   "outputs": [],
   "source": [
    "<p> test </p>\n",
    "test = test.text"
   ]
  },
  {
   "cell_type": "code",
   "execution_count": 10,
   "metadata": {},
   "outputs": [],
   "source": [
    "for container in containers:\n",
    "    #get all the title name\n",
    "    brand_container = container.find(\"div\",{\"class\":\"item-info\"})\n",
    "    brands = brand_container.div.a.img[\"title\"]\n",
    "    brand.append(brands)\n",
    "    #get all the product name\n",
    "    titles = container.a.img[\"title\"]\n",
    "    title.append(titles)\n",
    "#     f.write(\"\\n\"+ brand +\",\"+title+\"\\n\")\n"
   ]
  },
  {
   "cell_type": "code",
   "execution_count": null,
   "metadata": {},
   "outputs": [],
   "source": [
    "# f.close()"
   ]
  },
  {
   "cell_type": "code",
   "execution_count": 11,
   "metadata": {},
   "outputs": [],
   "source": [
    "df = pd.DataFrame({'brand':brand,'title':title}) \n",
    "df.to_csv('products.csv', index=False, encoding='utf-8')"
   ]
  },
  {
   "cell_type": "code",
   "execution_count": null,
   "metadata": {},
   "outputs": [],
   "source": []
  }
 ],
 "metadata": {
  "kernelspec": {
   "display_name": "Python 3",
   "language": "python",
   "name": "python3"
  },
  "language_info": {
   "codemirror_mode": {
    "name": "ipython",
    "version": 3
   },
   "file_extension": ".py",
   "mimetype": "text/x-python",
   "name": "python",
   "nbconvert_exporter": "python",
   "pygments_lexer": "ipython3",
   "version": "3.7.4"
  }
 },
 "nbformat": 4,
 "nbformat_minor": 2
}
